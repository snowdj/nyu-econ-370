{
 "cells": [
  {
   "cell_type": "markdown",
   "metadata": {},
   "source": [
    "# Assignment \\#6: Asset Pricing\n",
    "\n",
    "**Due:** Monday 02nd May 2016\n",
    "\n",
    "Please submit assignments to: \n",
    "\n",
    "> `econ370nyu@gmail.com` \n",
    "\n",
    "as a Jupyter notebook with your solutions."
   ]
  },
  {
   "cell_type": "code",
   "execution_count": 1,
   "metadata": {
    "collapsed": true
   },
   "outputs": [],
   "source": [
    "%matplotlib inline\n",
    "import numpy as np"
   ]
  },
  {
   "cell_type": "markdown",
   "metadata": {},
   "source": [
    "#### Homework problems"
   ]
  },
  {
   "cell_type": "markdown",
   "metadata": {},
   "source": [
    "** Question \\#1 **\n",
    "\n",
    "Please study the Python function in the following cell.  \n",
    "\n",
    "Please assume that:\n",
    "\n",
    "* $P$ is an $n \\times n$ matrix of nonnegative numbers whose rows sum to 1\n",
    "\n",
    "* $x$ is an $n \\times 1$ vector\n",
    "\n",
    "* $y$ is another $n \\times 1$ vector\n",
    "\n",
    "**a.** Please explain what the following things mean:\n",
    "\n",
    "* $x * y$\n",
    "\n",
    "* $P @ x$\n",
    "\n",
    "* $cov$"
   ]
  },
  {
   "cell_type": "markdown",
   "metadata": {},
   "source": [
    "**Answers:**\n",
    "\n",
    "**x * y**\n",
    "\n",
    "In Python the `*` operator performs element-by-element multiplication given x and y are $nx1$ vectors. This operation works as the dimension of both vectors is equal. One benefit of Python is operations are straight forward and do not require the programmer to write an explicit loop.\n",
    "\n",
    "This operation is a component of the `inner product` and are used extensively in basic linear algebra operations.\n",
    "\n",
    "**P@x**\n",
    "\n",
    "In Python the `@` operator performs matrix multiplication. \n",
    "\n",
    "Given $P$ is a stochastic matrix, these operations are used to compute the conditional expectation of $x_{t+1}$ given $x_t$ today. \n",
    "\n",
    "**$cov$**\n",
    "\n",
    "Covariance is a measure of how two random variables change together.\n",
    "\n",
    "$$\n",
    "\\begin{align*}\n",
    "cov(X,Y) &= E[(X - E[X])(Y-E[Y])] \\\\\n",
    "&= E[XY] - E[X]E[Y]\n",
    "\\end{align*}\n",
    "$$\n",
    "\n",
    "The Numpy library contains a function ``numpy.cov`` which can compute the covariance.\n"
   ]
  },
  {
   "cell_type": "markdown",
   "metadata": {},
   "source": [
    "**b.** Please propose some words in English telling what the function does"
   ]
  },
  {
   "cell_type": "code",
   "execution_count": 2,
   "metadata": {
    "collapsed": true
   },
   "outputs": [],
   "source": [
    "def covd(P,x,y):\n",
    "    \"\"\"\n",
    "    \n",
    "    \"\"\"\n",
    "    Ex = P @ x\n",
    "    Ey = P @ y\n",
    "    Exy = P @ (x*y)\n",
    "    cov = Exy - Ex*Ey\n",
    "    return cov"
   ]
  },
  {
   "cell_type": "markdown",
   "metadata": {},
   "source": [
    "**Answer:** \n",
    "\n",
    "This Python function requires 3 inputs:\n",
    "\n",
    "* $P$ is a $n \\times n$ stochastic matrix\n",
    "\n",
    "* $x$ is an $n \\times 1$ vector (Random Variable)\n",
    "\n",
    "* $y$ is another $n \\times 1$ vector (Random Variable)\n",
    "\n",
    "This function then computes three components of the covariance formulae $E_x$, $E_y$, and $E_{xy}$ using the stochastic matrix $P$ and returns the final computation:\n",
    "\n",
    "$$\n",
    "cov = E_{xy} - E_xE_y\n",
    "$$"
   ]
  },
  {
   "cell_type": "markdown",
   "metadata": {},
   "source": [
    "-------------------------------------------------------------------------------------------------------------------"
   ]
  },
  {
   "cell_type": "markdown",
   "metadata": {
    "collapsed": true
   },
   "source": [
    "** Question \\#2 **\n",
    "\n",
    "In the next cell, we claim to generate a transition matrix 5 state Markov chain"
   ]
  },
  {
   "cell_type": "code",
   "execution_count": 3,
   "metadata": {
    "collapsed": false
   },
   "outputs": [],
   "source": [
    "def create_disaster_probability(diag=0.9, alpha=0.01, n=5):\n",
    "    # Allocate for P\n",
    "    offdiag = (1 - diag - alpha)/(n-2)\n",
    "    P = np.ones((n, n)) * offdiag\n",
    "    \n",
    "    # Add to diag\n",
    "    P = P + np.eye(5)*(diag-offdiag)\n",
    "    \n",
    "    # Update last column\n",
    "    P[:, -1] = alpha\n",
    "    \n",
    "    # Last row\n",
    "    P[-1, :] = np.zeros(n)\n",
    "    P[-1, -1] = 0.5\n",
    "    P[-1, n//2] = 0.5\n",
    "    \n",
    "    return P\n",
    "\n",
    "P = create_disaster_probability(alpha=0.05)"
   ]
  },
  {
   "cell_type": "markdown",
   "metadata": {
    "collapsed": true
   },
   "source": [
    "**Please print out P and verify that it is a legitimate Markov transition matrix**"
   ]
  },
  {
   "cell_type": "code",
   "execution_count": 4,
   "metadata": {
    "collapsed": false
   },
   "outputs": [
    {
     "data": {
      "text/plain": [
       "array([[ 0.9       ,  0.01666667,  0.01666667,  0.01666667,  0.05      ],\n",
       "       [ 0.01666667,  0.9       ,  0.01666667,  0.01666667,  0.05      ],\n",
       "       [ 0.01666667,  0.01666667,  0.9       ,  0.01666667,  0.05      ],\n",
       "       [ 0.01666667,  0.01666667,  0.01666667,  0.9       ,  0.05      ],\n",
       "       [ 0.        ,  0.        ,  0.5       ,  0.        ,  0.5       ]])"
      ]
     },
     "execution_count": 4,
     "metadata": {},
     "output_type": "execute_result"
    }
   ],
   "source": [
    "P"
   ]
  },
  {
   "cell_type": "code",
   "execution_count": 5,
   "metadata": {
    "collapsed": false
   },
   "outputs": [
    {
     "data": {
      "text/plain": [
       "array([ 1.,  1.,  1.,  1.,  1.])"
      ]
     },
     "execution_count": 5,
     "metadata": {},
     "output_type": "execute_result"
    }
   ],
   "source": [
    "#-All Rows Sum to 1-#\n",
    "P.sum(axis=1)"
   ]
  },
  {
   "cell_type": "code",
   "execution_count": 6,
   "metadata": {
    "collapsed": false
   },
   "outputs": [
    {
     "data": {
      "text/plain": [
       "array([], dtype=float64)"
      ]
     },
     "execution_count": 6,
     "metadata": {},
     "output_type": "execute_result"
    }
   ],
   "source": [
    "#-Elements are positive-#\n",
    "P[P < 0]"
   ]
  },
  {
   "cell_type": "markdown",
   "metadata": {},
   "source": [
    "--------------------------------------------------------------------------------------------------------------------"
   ]
  },
  {
   "cell_type": "markdown",
   "metadata": {},
   "source": [
    "**Question \\#3**\n",
    " \n",
    " \n",
    "A friend tells you that the price of an asset satisfies\n",
    "\n",
    "$$ p_t = E_t m_{t+1} E_t (c_{t+1} + p_{t+1}) + cov_t (m_{t+1}, c_{t+1} + p_{t+1}) \\quad (1) $$\n",
    "\n",
    "where $p_t = v_t c_t$\n",
    "\n",
    "* $v_t$ is a function of the Markov state at $t$\n",
    "\n",
    "and \n",
    "\n",
    "* $E_t x_{t+1}$ is the conditional expectation of $x_{t+1}$\n",
    "* $m_t$ is a function of the Markov state \n",
    "* $s_t$ is the Markov state\n",
    "* $P$ matrix is from Question \\#2 \n",
    " \n",
    "\n",
    "Three vectors m, v, and s are given by the successive **rows** of\n",
    "\n",
    "* $m=[0.45351474,0.4759072,0.5,0.52596976,2.]$,\n",
    "* $v=[1.11737826,1.15554868,1.19713735,1.24262496,2.09856868]$\n",
    "* $s=[1.05,1.025,1.,0.975,0.5]$\n",
    "\n",
    "Please interpret these three vectors as random variables.  \n",
    "\n",
    "Please **verify** that equation (1) holds with these values. (You'll have to write Python code to do this.)"
   ]
  },
  {
   "cell_type": "code",
   "execution_count": 7,
   "metadata": {
    "collapsed": true
   },
   "outputs": [],
   "source": [
    "#-Setup the problem as Numpy Arrays-#\n",
    "m = np.array([0.45351474,0.4759072,0.5,0.52596976,2.])\n",
    "v = np.array([1.11737826,1.15554868,1.19713735,1.24262496,2.09856868])\n",
    "s = np.array([1.05,1.025,1.,0.975,0.5])"
   ]
  },
  {
   "cell_type": "markdown",
   "metadata": {},
   "source": [
    "**Solution Strategy \\#1**\n",
    "\n",
    "We know the definition of covariance is:\n",
    "\n",
    "$$\n",
    "E_t (x_{t+1} y_{t+1}) = {\\rm cov}_t (x_{t+1}, y_{t+1}) + E_t x_{t+1} E_t y_{t+1}\n",
    "$$\n",
    "\n",
    "the price equation can be rearranged \n",
    "\n",
    "$$\n",
    "p_t = E_t[m_{t+1}(p_{t+1} + c_{t+1})]\n",
    "$$\n",
    "\n",
    "Your friend has told you to guess: $p_t = v_t * c_t$ where\n",
    "\n",
    "* $v_t$ is a function of the Markov state at $t$\n",
    "\n",
    "Substituting into the equation one can cancel $c_t$ as $c_{t+1} = \\lambda_{t+1} c_t$ where $\\lambda_{t+1}$ is a function of the state $s$. Solving the equation for $v_t$\n",
    "\n",
    "$$\n",
    "v_t = E_t[m_{t+1}(v_{t+1}\\lambda_{t+1} + \\lambda_{t+1})]\n",
    "$$\n",
    "\n",
    "* where $\\lambda$ is a function of the markov state $s$\n",
    "\n",
    "This equation is now expressed in terms of $m$, $v$, and $s$ which is what we were given. "
   ]
  },
  {
   "cell_type": "code",
   "execution_count": 8,
   "metadata": {
    "collapsed": false
   },
   "outputs": [],
   "source": [
    "#-Compute the Expression using Linear Algebra-#\n",
    "exp = m * (v * s + s)\n",
    "# m is a vector and *, and + operators are element by element"
   ]
  },
  {
   "cell_type": "code",
   "execution_count": 9,
   "metadata": {
    "collapsed": false
   },
   "outputs": [],
   "source": [
    "#-Compute the Expectation-#\n",
    "E_exp = P @ exp"
   ]
  },
  {
   "cell_type": "code",
   "execution_count": 10,
   "metadata": {
    "collapsed": false
   },
   "outputs": [
    {
     "name": "stdout",
     "output_type": "stream",
     "text": [
      "[ 1.11737826  1.15554868  1.19713735  1.24262497  2.09856868]\n"
     ]
    }
   ],
   "source": [
    "print(E_exp)"
   ]
  },
  {
   "cell_type": "code",
   "execution_count": 11,
   "metadata": {
    "collapsed": false
   },
   "outputs": [
    {
     "name": "stdout",
     "output_type": "stream",
     "text": [
      "[ 1.11737826  1.15554868  1.19713735  1.24262496  2.09856868]\n"
     ]
    }
   ],
   "source": [
    "print(v)"
   ]
  },
  {
   "cell_type": "markdown",
   "metadata": {},
   "source": [
    "The expression **holds** as:\n",
    "\n",
    "$$\n",
    "v = E\\_exp\n",
    "$$\n"
   ]
  },
  {
   "cell_type": "code",
   "execution_count": 12,
   "metadata": {
    "collapsed": false
   },
   "outputs": [
    {
     "data": {
      "text/plain": [
       "True"
      ]
     },
     "execution_count": 12,
     "metadata": {},
     "output_type": "execute_result"
    }
   ],
   "source": [
    "np.allclose(E_exp,v)"
   ]
  },
  {
   "cell_type": "markdown",
   "metadata": {},
   "source": [
    "**Solution Strategy \\#2**\n",
    "\n",
    "Given\n",
    "\n",
    "$$ \n",
    "p_t = E_t m_{t+1} E_t (c_{t+1} + p_{t+1}) + cov_t (m_{t+1}, c_{t+1} + p_{t+1}) \\quad (1) \n",
    "$$\n",
    "\n",
    "where $p_t = v_t c_t$\n",
    "\n",
    "* $v_t$ is a function of the Markov state at $t$\n",
    "\n",
    "Substituting into the expression for $p_t$ you can cancel $c_t$ terms as $c_{t+1} = \\lambda_{t+1} c_t$. This evaluates to:\n",
    "\n",
    "$$\n",
    "v_t = E_t m_{t+1} E_t (v_{t+1} \\lambda_{t+1} + \\lambda_{t+1}) + cov_t (m_{t+1}, v_{t+1} \\lambda_{t+1} + \\lambda_{t+1})\n",
    "$$\n",
    "\n",
    "You need to use the covariance rule:\n",
    "\n",
    "$$\n",
    "COV(aX,bY) = axCOV(X,y)\n",
    "$$\n",
    "\n",
    "We can now compute all elements of this expression using $m$, $v$, and $s$ by computing Expectations"
   ]
  },
  {
   "cell_type": "code",
   "execution_count": 13,
   "metadata": {
    "collapsed": false
   },
   "outputs": [
    {
     "name": "stdout",
     "output_type": "stream",
     "text": [
      "[ 0.53319455  0.55297456  0.57425653  0.59719648  1.25      ]\n"
     ]
    }
   ],
   "source": [
    "E_m = P @ m\n",
    "print(E_m)"
   ]
  },
  {
   "cell_type": "code",
   "execution_count": 14,
   "metadata": {
    "collapsed": false
   },
   "outputs": [
    {
     "name": "stdout",
     "output_type": "stream",
     "text": [
      "[ 1.02        0.99791667  0.97583333  0.95375     0.75      ]\n"
     ]
    }
   ],
   "source": [
    "E_s = P @ s\n",
    "print(E_s)"
   ]
  },
  {
   "cell_type": "code",
   "execution_count": 15,
   "metadata": {
    "collapsed": false
   },
   "outputs": [
    {
     "name": "stdout",
     "output_type": "stream",
     "text": [
      "[ 1.16827224  1.17815694  1.18937523  1.20211465  1.12321085]\n"
     ]
    }
   ],
   "source": [
    "E_vs = P @ (v*s)\n",
    "print(E_vs)"
   ]
  },
  {
   "cell_type": "code",
   "execution_count": 16,
   "metadata": {
    "collapsed": false
   },
   "outputs": [
    {
     "name": "stdout",
     "output_type": "stream",
     "text": [
      "[-0.04939657 -0.04776465 -0.0462478  -0.04484982 -0.24294488]\n"
     ]
    }
   ],
   "source": [
    "cov = covd(P,m,v*s+s)\n",
    "print(cov)"
   ]
  },
  {
   "cell_type": "code",
   "execution_count": 17,
   "metadata": {
    "collapsed": false
   },
   "outputs": [
    {
     "name": "stdout",
     "output_type": "stream",
     "text": [
      "ans/v = 1? [ 1.          1.          1.          1.00000001  1.        ]\n"
     ]
    }
   ],
   "source": [
    "ans = E_m*(E_vs+ E_s) + cov\n",
    "print(\"ans/v = 1?\", ans/v)"
   ]
  },
  {
   "cell_type": "code",
   "execution_count": 18,
   "metadata": {
    "collapsed": false
   },
   "outputs": [
    {
     "data": {
      "text/plain": [
       "array([ 1.11737826,  1.15554868,  1.19713735,  1.24262497,  2.09856868])"
      ]
     },
     "execution_count": 18,
     "metadata": {},
     "output_type": "execute_result"
    }
   ],
   "source": [
    "ans"
   ]
  },
  {
   "cell_type": "code",
   "execution_count": 19,
   "metadata": {
    "collapsed": false
   },
   "outputs": [
    {
     "data": {
      "text/plain": [
       "array([ 1.11737826,  1.15554868,  1.19713735,  1.24262496,  2.09856868])"
      ]
     },
     "execution_count": 19,
     "metadata": {},
     "output_type": "execute_result"
    }
   ],
   "source": [
    "v"
   ]
  },
  {
   "cell_type": "code",
   "execution_count": 20,
   "metadata": {
    "collapsed": false
   },
   "outputs": [
    {
     "data": {
      "text/plain": [
       "True"
      ]
     },
     "execution_count": 20,
     "metadata": {},
     "output_type": "execute_result"
    }
   ],
   "source": [
    "np.allclose(ans,v)"
   ]
  },
  {
   "cell_type": "markdown",
   "metadata": {
    "collapsed": true
   },
   "source": [
    "-------------------------------------------------------------------------------------------------------------------"
   ]
  },
  {
   "cell_type": "markdown",
   "metadata": {},
   "source": [
    "**Question \\#4**\n",
    "\n",
    "#### Returns\n",
    "\n",
    "Returns are defined as $R_{t+1} = \\frac{v_{t+1} + s_{t+1}}{v_t}$.\n",
    "\n",
    "In our Markov setting, returns can be summarized by an $n \\times n$ matrix whose $i,j$th component\n",
    "is \n",
    "\n",
    "$$ R_{i,j} = \\frac{(v_j s_j + s_j)}{v_i} $$\n",
    "\n",
    "**Part A** Please create the matrix $R$ and verify\n",
    "\n",
    "$$ 1 = E_t m_{t+1} E_t R_{t+1} + cov_t (m_{t+1}, R_{t+1}) $$"
   ]
  },
  {
   "cell_type": "markdown",
   "metadata": {},
   "source": [
    "** Solution \\#1 to Creating the R Matrix **"
   ]
  },
  {
   "cell_type": "code",
   "execution_count": 21,
   "metadata": {
    "collapsed": true
   },
   "outputs": [],
   "source": [
    "#-Compute Numerator as an array-#\n",
    "Rnum = (v*s+s)"
   ]
  },
  {
   "cell_type": "code",
   "execution_count": 22,
   "metadata": {
    "collapsed": false
   },
   "outputs": [
    {
     "data": {
      "text/plain": [
       "array([ 2.22324717,  2.2094374 ,  2.19713735,  2.18655934,  1.54928434])"
      ]
     },
     "execution_count": 22,
     "metadata": {},
     "output_type": "execute_result"
    }
   ],
   "source": [
    "Rnum"
   ]
  },
  {
   "cell_type": "code",
   "execution_count": 23,
   "metadata": {
    "collapsed": false
   },
   "outputs": [],
   "source": [
    "#-Compute Denominator as an array-#\n",
    "Rden = 1/v"
   ]
  },
  {
   "cell_type": "code",
   "execution_count": 24,
   "metadata": {
    "collapsed": false
   },
   "outputs": [
    {
     "data": {
      "text/plain": [
       "array([ 0.89495208,  0.86538976,  0.83532604,  0.80474804,  0.47651526])"
      ]
     },
     "execution_count": 24,
     "metadata": {},
     "output_type": "execute_result"
    }
   ],
   "source": [
    "Rden"
   ]
  },
  {
   "cell_type": "markdown",
   "metadata": {},
   "source": [
    "Check the definition of of R\n",
    "\n",
    "$$ R_{i,j} = \\frac{(v_j s_j + s_j)}{v_i} $$\n",
    "\n",
    "Numerator are ``j`` and denominator is ``i``. Therefore for all ``j`` we need to devide by each ``i``. This can be done row by row, looping, or making use of numpy."
   ]
  },
  {
   "cell_type": "code",
   "execution_count": 25,
   "metadata": {
    "collapsed": false
   },
   "outputs": [
    {
     "data": {
      "text/plain": [
       "array([[ 0.89495208],\n",
       "       [ 0.86538976],\n",
       "       [ 0.83532604],\n",
       "       [ 0.80474804],\n",
       "       [ 0.47651526]])"
      ]
     },
     "execution_count": 25,
     "metadata": {},
     "output_type": "execute_result"
    }
   ],
   "source": [
    "Rden.reshape(5,1)"
   ]
  },
  {
   "cell_type": "code",
   "execution_count": 26,
   "metadata": {
    "collapsed": false
   },
   "outputs": [],
   "source": [
    "R = Rnum * Rden.reshape(5,1)"
   ]
  },
  {
   "cell_type": "code",
   "execution_count": 27,
   "metadata": {
    "collapsed": false
   },
   "outputs": [
    {
     "data": {
      "text/plain": [
       "array([[ 1.98969969,  1.9773406 ,  1.96633265,  1.95686583,  1.38653525],\n",
       "       [ 1.92397535,  1.91202451,  1.90138017,  1.89222607,  1.34073481],\n",
       "       [ 1.85713625,  1.84560059,  1.83532604,  1.82648995,  1.29415755],\n",
       "       [ 1.7891538 ,  1.77804041,  1.76814197,  1.75962934,  1.24678353],\n",
       "       [ 1.0594112 ,  1.05283064,  1.04696948,  1.04192889,  0.73825763]])"
      ]
     },
     "execution_count": 27,
     "metadata": {},
     "output_type": "execute_result"
    }
   ],
   "source": [
    "R"
   ]
  },
  {
   "cell_type": "markdown",
   "metadata": {},
   "source": [
    "**Verify**\n",
    "\n",
    "$$ 1 = E_t m_{t+1} E_t R_{t+1} + cov_t (m_{t+1}, R_{t+1}) $$"
   ]
  },
  {
   "cell_type": "code",
   "execution_count": 28,
   "metadata": {
    "collapsed": false
   },
   "outputs": [],
   "source": [
    "Etm = P @ m\n",
    "EtR = np.sum(P*R, axis=1)\n",
    "EtRm = np.sum(m*P*R, axis=1)\n",
    "cov = EtRm - Etm * EtR"
   ]
  },
  {
   "cell_type": "code",
   "execution_count": 29,
   "metadata": {
    "collapsed": true
   },
   "outputs": [],
   "source": [
    "exp = Etm * EtR + cov"
   ]
  },
  {
   "cell_type": "code",
   "execution_count": 30,
   "metadata": {
    "collapsed": false
   },
   "outputs": [
    {
     "data": {
      "text/plain": [
       "array([ 1.        ,  1.        ,  1.        ,  1.00000001,  1.        ])"
      ]
     },
     "execution_count": 30,
     "metadata": {},
     "output_type": "execute_result"
    }
   ],
   "source": [
    "exp"
   ]
  },
  {
   "cell_type": "code",
   "execution_count": 31,
   "metadata": {
    "collapsed": false
   },
   "outputs": [],
   "source": [
    "ans = np.array([1]*5)"
   ]
  },
  {
   "cell_type": "code",
   "execution_count": 32,
   "metadata": {
    "collapsed": false
   },
   "outputs": [
    {
     "data": {
      "text/plain": [
       "array([1, 1, 1, 1, 1])"
      ]
     },
     "execution_count": 32,
     "metadata": {},
     "output_type": "execute_result"
    }
   ],
   "source": [
    "ans"
   ]
  },
  {
   "cell_type": "code",
   "execution_count": 33,
   "metadata": {
    "collapsed": false
   },
   "outputs": [
    {
     "data": {
      "text/plain": [
       "True"
      ]
     },
     "execution_count": 33,
     "metadata": {},
     "output_type": "execute_result"
    }
   ],
   "source": [
    "np.allclose(ans, exp)"
   ]
  },
  {
   "cell_type": "markdown",
   "metadata": {
    "collapsed": true
   },
   "source": [
    "#### Solve using linear algebra rather than using NumPy Vector Operations"
   ]
  },
  {
   "cell_type": "code",
   "execution_count": 34,
   "metadata": {
    "collapsed": false
   },
   "outputs": [
    {
     "data": {
      "text/plain": [
       "array([ 1.9583988 ,  1.88315182,  1.80865509,  1.73492785,  0.89261355])"
      ]
     },
     "execution_count": 34,
     "metadata": {},
     "output_type": "execute_result"
    }
   ],
   "source": [
    "#-This reult is computed using (P*R).sum(axis=1)\n",
    "EtR"
   ]
  },
  {
   "cell_type": "code",
   "execution_count": 35,
   "metadata": {
    "collapsed": false
   },
   "outputs": [
    {
     "data": {
      "text/plain": [
       "array([ 1.9583988 ,  1.88315182,  1.80865509,  1.73492785,  0.89261355])"
      ]
     },
     "execution_count": 35,
     "metadata": {},
     "output_type": "execute_result"
    }
   ],
   "source": [
    "#-Equivalent using Matrix Multiplication-#\n",
    "np.diag(P @ R.T)"
   ]
  },
  {
   "cell_type": "code",
   "execution_count": 36,
   "metadata": {
    "collapsed": false
   },
   "outputs": [
    {
     "data": {
      "text/plain": [
       "array([[ 1.9583988 ,  1.8937084 ,  1.82792078,  1.76100779,  1.04274512],\n",
       "       [ 1.9474816 ,  1.88315182,  1.81773094,  1.75119097,  1.03693228],\n",
       "       [ 1.93775791,  1.87374933,  1.80865509,  1.74244735,  1.03175492],\n",
       "       [ 1.92939556,  1.8656632 ,  1.80084988,  1.73492785,  1.0273024 ],\n",
       "       [ 1.67643395,  1.62105749,  1.56474179,  1.50746275,  0.89261355]])"
      ]
     },
     "execution_count": 36,
     "metadata": {},
     "output_type": "execute_result"
    }
   ],
   "source": [
    "#-Take a look at what is being computed here-#\n",
    "P @ R.T "
   ]
  },
  {
   "cell_type": "markdown",
   "metadata": {},
   "source": [
    "This matrix operation computes all combinations of rows and columns, as per the rules of Matrix multiplication. What we are interested in, is the the diagonal elements as they represent the sum of each row of $P$ multiplied element-by-element with the `rows` of R given R is transposed."
   ]
  },
  {
   "cell_type": "code",
   "execution_count": null,
   "metadata": {
    "collapsed": true
   },
   "outputs": [],
   "source": []
  },
  {
   "cell_type": "markdown",
   "metadata": {},
   "source": [
    "#### Possibly helpful or harmful hint\n",
    "\n",
    "The following code is one person's attempt to answer this.\n",
    "Do you think this code is correct?\n",
    "If can you do better?\n",
    "\n",
    "Please explain"
   ]
  },
  {
   "cell_type": "code",
   "execution_count": 37,
   "metadata": {
    "collapsed": false
   },
   "outputs": [
    {
     "data": {
      "text/plain": [
       "array([[ 1.98969969,  1.9773406 ,  1.96633265,  1.95686583,  1.38653525],\n",
       "       [ 1.92397535,  1.91202451,  1.90138017,  1.89222607,  1.34073481],\n",
       "       [ 1.85713625,  1.84560059,  1.83532604,  1.82648995,  1.29415755],\n",
       "       [ 1.7891538 ,  1.77804041,  1.76814197,  1.75962934,  1.24678353],\n",
       "       [ 1.0594112 ,  1.05283064,  1.04696948,  1.04192889,  0.73825763]])"
      ]
     },
     "execution_count": 37,
     "metadata": {},
     "output_type": "execute_result"
    }
   ],
   "source": [
    "# Here is some code that implements the pseudo code R = (v*s + s)(tomorrow)/v(today)\n",
    "\n",
    "v=np.array([ 1.11737826,  1.15554868,  1.19713735,  1.24262496,  2.09856868])\n",
    "m=np.array([ 0.45351474,  0.4759072 ,  0.5       ,  0.52596976,  2.        ])\n",
    "s=np.array([ 1.05 ,  1.025,  1.   ,  0.975,  0.5  ])\n",
    "\n",
    "R1 = np.array((v*s + s)/v[0])\n",
    "R2 = np.array((v*s + s)/v[1])\n",
    "R3 = np.array((v*s + s)/v[2])\n",
    "R4 = np.array((v*s + s)/v[3])\n",
    "R5 = np.array((v*s + s)/v[4])\n",
    "\n",
    "R = np.vstack([R1,R2,R3,R4,R5])\n",
    "R"
   ]
  },
  {
   "cell_type": "markdown",
   "metadata": {},
   "source": [
    "**Explanation:**\n",
    "\n",
    "This code block redefines $v$, $m$, and $s$ and then constructs the $R$ matrix using NumPy broadcasting over the 5 different states. $R1$ to $R5$ correspond to the 5 different states of the problem. The vector expression $v_j*s_j + s_j$ produces a $1 \\times 5$ vector of which each element is normalised by $v_i$ for each state $i$. This correspondes with the formal definition of the $R$ matrix:\n",
    "\n",
    "$$ R_{i,j} = \\frac{(v_j s_j + s_j)}{v_i} $$\n",
    "\n",
    "The $R$ matrix is then fully constructed by stacking each row of the matrix"
   ]
  },
  {
   "cell_type": "markdown",
   "metadata": {},
   "source": [
    "**Part C**\n",
    "\n",
    "An unnamed student in our class has said that she thinks the following code does\n",
    "the same thing and is \"better\". Do you agree?  Can you please explain how this code works?\n"
   ]
  },
  {
   "cell_type": "code",
   "execution_count": 38,
   "metadata": {
    "collapsed": false
   },
   "outputs": [],
   "source": [
    "Rsf = np.reshape(v*s + s, (1, 5)) / np.reshape(v, (5, 1))"
   ]
  },
  {
   "cell_type": "code",
   "execution_count": 39,
   "metadata": {
    "collapsed": false
   },
   "outputs": [
    {
     "data": {
      "text/plain": [
       "array([[ 1.98969969,  1.9773406 ,  1.96633265,  1.95686583,  1.38653525],\n",
       "       [ 1.92397535,  1.91202451,  1.90138017,  1.89222607,  1.34073481],\n",
       "       [ 1.85713625,  1.84560059,  1.83532604,  1.82648995,  1.29415755],\n",
       "       [ 1.7891538 ,  1.77804041,  1.76814197,  1.75962934,  1.24678353],\n",
       "       [ 1.0594112 ,  1.05283064,  1.04696948,  1.04192889,  0.73825763]])"
      ]
     },
     "execution_count": 39,
     "metadata": {},
     "output_type": "execute_result"
    }
   ],
   "source": [
    "Rsf"
   ]
  },
  {
   "cell_type": "markdown",
   "metadata": {},
   "source": [
    "**Comment** While this code is correct it is actually more confusing than either of the above two solutions. It needs comments to explain what the role of reshape is."
   ]
  },
  {
   "cell_type": "code",
   "execution_count": 40,
   "metadata": {
    "collapsed": true
   },
   "outputs": [],
   "source": [
    "#-The first reshape is unncessary as that is the natural shape of the vector in numpy-#\n",
    "Rsf = (v*s + s) / np.reshape(v, (5, 1))"
   ]
  },
  {
   "cell_type": "code",
   "execution_count": 41,
   "metadata": {
    "collapsed": false
   },
   "outputs": [
    {
     "data": {
      "text/plain": [
       "array([[ 1.98969969,  1.9773406 ,  1.96633265,  1.95686583,  1.38653525],\n",
       "       [ 1.92397535,  1.91202451,  1.90138017,  1.89222607,  1.34073481],\n",
       "       [ 1.85713625,  1.84560059,  1.83532604,  1.82648995,  1.29415755],\n",
       "       [ 1.7891538 ,  1.77804041,  1.76814197,  1.75962934,  1.24678353],\n",
       "       [ 1.0594112 ,  1.05283064,  1.04696948,  1.04192889,  0.73825763]])"
      ]
     },
     "execution_count": 41,
     "metadata": {},
     "output_type": "execute_result"
    }
   ],
   "source": [
    "Rsf"
   ]
  },
  {
   "cell_type": "markdown",
   "metadata": {},
   "source": [
    "-------------------------------------------------------------------------------------------------------------------"
   ]
  },
  {
   "cell_type": "markdown",
   "metadata": {},
   "source": [
    "**Question \\#5**\n",
    "\n",
    "Consider the problem in Question \\#3\n",
    "\n",
    "$$ p_t = E_t m_{t+1} E_t (c_{t+1} + p_{t+1}) + cov_t (m_{t+1}, c_{t+1} + p_{t+1}) \\quad (1) $$\n",
    "\n",
    "where $p_t = v_t c_t$\n",
    "\n",
    "* $v_t$ is a function of the Markov state at $t$\n",
    "\n",
    "and \n",
    " \n",
    "* $E_t x_{t+1}$ is the conditional expectation of $x_{t+1}$\n",
    "*  $m_t$ is a function of the Markov state \n",
    "*  $s_t$ isthe Markov state\n",
    "* $P$ is the same as in Question \\#2\n",
    " \n",
    "\n",
    "Suppose you **only** know P, m, and s:\n",
    "\n",
    "* $m=[ 0.45351474,  0.4759072 ,  0.5       ,  0.52596976,  2.        ]$,\n",
    "* $s =[ 1.05 ,  1.025,  1.   ,  0.975,  0.5  ]$\n",
    "    \n",
    "How do you compute the vector $v$ to satisfy the asset pricing function? \n",
    "\n",
    "[**Hint:** Check that your computed v is equal to $v =[ 1.11737826,  1.15554868,  1.19713735,  1.24262496,  2.09856868]$]\n",
    "\n"
   ]
  },
  {
   "cell_type": "markdown",
   "metadata": {},
   "source": [
    "**Strategy \\#1: Using Iteration to Solve for V**\n",
    "\n",
    "We Know\n",
    "\n",
    "$$\n",
    "v_t = E_t[m_{t+1}(v_{t+1}\\lambda_{t+1} + \\lambda_{t+1})]\n",
    "$$\n",
    "\n",
    "We can guess that V = [0,0,0,0,0] and iterate over the equation until we converge to a solution. \n",
    "\n",
    "It is easier to express the vectors as **column** vectors"
   ]
  },
  {
   "cell_type": "code",
   "execution_count": 42,
   "metadata": {
    "collapsed": true
   },
   "outputs": [],
   "source": [
    "#-Assume V = [0,0,0,0,0]-#\n",
    "vcol = np.reshape(np.zeros(5), (5,1))"
   ]
  },
  {
   "cell_type": "code",
   "execution_count": 43,
   "metadata": {
    "collapsed": false
   },
   "outputs": [
    {
     "data": {
      "text/plain": [
       "array([[ 0.],\n",
       "       [ 0.],\n",
       "       [ 0.],\n",
       "       [ 0.],\n",
       "       [ 0.]])"
      ]
     },
     "execution_count": 43,
     "metadata": {},
     "output_type": "execute_result"
    }
   ],
   "source": [
    "vcol"
   ]
  },
  {
   "cell_type": "code",
   "execution_count": 44,
   "metadata": {
    "collapsed": false
   },
   "outputs": [],
   "source": [
    "mcol = np.reshape(m, (5,1))"
   ]
  },
  {
   "cell_type": "code",
   "execution_count": 45,
   "metadata": {
    "collapsed": false
   },
   "outputs": [
    {
     "data": {
      "text/plain": [
       "array([[ 0.45351474],\n",
       "       [ 0.4759072 ],\n",
       "       [ 0.5       ],\n",
       "       [ 0.52596976],\n",
       "       [ 2.        ]])"
      ]
     },
     "execution_count": 45,
     "metadata": {},
     "output_type": "execute_result"
    }
   ],
   "source": [
    "mcol"
   ]
  },
  {
   "cell_type": "code",
   "execution_count": 46,
   "metadata": {
    "collapsed": false
   },
   "outputs": [],
   "source": [
    "scol = np.reshape(s, (5,1))"
   ]
  },
  {
   "cell_type": "code",
   "execution_count": 47,
   "metadata": {
    "collapsed": false
   },
   "outputs": [
    {
     "data": {
      "text/plain": [
       "array([[ 1.05 ],\n",
       "       [ 1.025],\n",
       "       [ 1.   ],\n",
       "       [ 0.975],\n",
       "       [ 0.5  ]])"
      ]
     },
     "execution_count": 47,
     "metadata": {},
     "output_type": "execute_result"
    }
   ],
   "source": [
    "scol"
   ]
  },
  {
   "cell_type": "code",
   "execution_count": 48,
   "metadata": {
    "collapsed": false
   },
   "outputs": [],
   "source": [
    "#-Iterate to Solve for V-#\n",
    "maxitr = 1000\n",
    "for i in range(maxitr):\n",
    "    vcol_new = P @ (mcol * (vcol * scol + scol))\n",
    "    if np.allclose(vcol, vcol_new, rtol=1e-08):\n",
    "        break\n",
    "    else:\n",
    "        vcol = vcol_new #Iterative Again"
   ]
  },
  {
   "cell_type": "code",
   "execution_count": 49,
   "metadata": {
    "collapsed": false
   },
   "outputs": [
    {
     "data": {
      "text/plain": [
       "array([[ 1.11737824],\n",
       "       [ 1.15554866],\n",
       "       [ 1.19713733],\n",
       "       [ 1.24262494],\n",
       "       [ 2.09856861]])"
      ]
     },
     "execution_count": 49,
     "metadata": {},
     "output_type": "execute_result"
    }
   ],
   "source": [
    "vcol"
   ]
  },
  {
   "cell_type": "code",
   "execution_count": 50,
   "metadata": {
    "collapsed": false
   },
   "outputs": [
    {
     "name": "stdout",
     "output_type": "stream",
     "text": [
      "34\n"
     ]
    }
   ],
   "source": [
    "#-Number of Iterations\n",
    "print(i)"
   ]
  },
  {
   "cell_type": "markdown",
   "metadata": {},
   "source": [
    "**Compare computed V with Known Solution of V as Column Vectors**"
   ]
  },
  {
   "cell_type": "code",
   "execution_count": 51,
   "metadata": {
    "collapsed": false
   },
   "outputs": [
    {
     "data": {
      "text/plain": [
       "array([[ 1.11737826],\n",
       "       [ 1.15554868],\n",
       "       [ 1.19713735],\n",
       "       [ 1.24262496],\n",
       "       [ 2.09856868]])"
      ]
     },
     "execution_count": 51,
     "metadata": {},
     "output_type": "execute_result"
    }
   ],
   "source": [
    "#-Known Solution of v-#\n",
    "np.reshape(v, (5,1))"
   ]
  },
  {
   "cell_type": "code",
   "execution_count": 52,
   "metadata": {
    "collapsed": false
   },
   "outputs": [
    {
     "data": {
      "text/plain": [
       "array([[ 1.11737824],\n",
       "       [ 1.15554866],\n",
       "       [ 1.19713733],\n",
       "       [ 1.24262494],\n",
       "       [ 2.09856861]])"
      ]
     },
     "execution_count": 52,
     "metadata": {},
     "output_type": "execute_result"
    }
   ],
   "source": [
    "vcol"
   ]
  },
  {
   "cell_type": "code",
   "execution_count": 53,
   "metadata": {
    "collapsed": false
   },
   "outputs": [
    {
     "data": {
      "text/plain": [
       "True"
      ]
     },
     "execution_count": 53,
     "metadata": {},
     "output_type": "execute_result"
    }
   ],
   "source": [
    "np.allclose(np.reshape(v, (5,1)), vcol)"
   ]
  },
  {
   "cell_type": "code",
   "execution_count": null,
   "metadata": {
    "collapsed": true
   },
   "outputs": [],
   "source": []
  },
  {
   "cell_type": "markdown",
   "metadata": {
    "collapsed": true
   },
   "source": [
    "**Strategy \\#2: Using Linear Algebra**\n",
    "\n",
    "We know from Question \\#3, the pricing equation can be represented as\n",
    "\n",
    "$$\n",
    "v_t = E_t[m_{t+1}(v_{t+1}\\lambda_{t+1} + \\lambda_{t+1})]\n",
    "$$\n",
    "\n",
    "where $\\lambda_t = s_t$\n",
    "\n",
    "We know that $v$ is a vector across 5 states. First consider the first state and dropping subscript $t$ for convenience. The above equation would be\n",
    "\n",
    "$$\n",
    "v_1 = [P_1,...,P_5]*\\begin{bmatrix} m_1(v_1\\lambda_1 + \\lambda_1) \\\\ ... \\\\ m_5(v_5\\lambda_5 + \\lambda_5) \\end{bmatrix}\n",
    "$$\n",
    "\n",
    "Now computing for all states requires solving this equation where $P$ is a matrix, $v$, $m$, and $\\lambda$ are vectors.\n",
    "\n",
    "$$\n",
    "v = P[m(v\\lambda + \\lambda)]\n",
    "$$\n",
    "\n",
    "We will need to use some linear algebra to solve this equation given v is on both sides of the equation. Transform element by element operations ($*$) on $\\lambda$ to matrix operations ($@$) by converting the $lambda$ and $m$ vector into diagonal matrices. (**Note** Write out this problem in full matrix notation and verify for yourself) The notation that follows is CAPITAL for Matrix and lower case for a Vector\n",
    "\n",
    "$$\n",
    "\\Lambda = \n",
    "\\begin{bmatrix}\n",
    "s_1 & 0 & 0 & 0 & 0 \\\\ \n",
    "0 & s_2 & 0 & 0 & 0  \\\\\n",
    "0 & 0 & s_3 & 0 & 0  \\\\\n",
    "0 & 0 & 0 & s_4 & 0  \\\\\n",
    "0 & 0 & 0 & 0 &  s_5 \\\\\n",
    "\\end{bmatrix}\n",
    "$$\n",
    "\n",
    "and\n",
    "\n",
    "$$\n",
    "M = \n",
    "\\begin{bmatrix}\n",
    "m_1 & 0 & 0 & 0 & 0 \\\\ \n",
    "0 & m_2 & 0 & 0 & 0  \\\\\n",
    "0 & 0 & m_3 & 0 & 0  \\\\\n",
    "0 & 0 & 0 & m_4 & 0  \\\\\n",
    "0 & 0 & 0 & 0 & m_5 \\\\\n",
    "\\end{bmatrix}\n",
    "$$\n",
    "\n",
    "Then solving using **rules** of linear algebra\n",
    "\n",
    "$$\n",
    "[I-PM\\Lambda]v = P M s\n",
    "$$\n",
    "\n",
    "Therefore\n",
    "\n",
    "$$\n",
    "v = [I-PM\\Lambda]^{-1}PM s\n",
    "$$\n"
   ]
  },
  {
   "cell_type": "code",
   "execution_count": 54,
   "metadata": {
    "collapsed": false
   },
   "outputs": [],
   "source": [
    "I = np.eye(5)\n",
    "m=np.array([ 0.45351474,  0.4759072 ,  0.5       ,  0.52596976,  2.        ])\n",
    "s=np.array([ 1.05 ,  1.025,  1.   ,  0.975,  0.5  ])"
   ]
  },
  {
   "cell_type": "code",
   "execution_count": 55,
   "metadata": {
    "collapsed": false
   },
   "outputs": [],
   "source": [
    "#-Represented problem as Full Matrices, to use proper Linear Algebra Operations-#\n",
    "M = np.diag(m)\n",
    "S = np.diag(s)"
   ]
  },
  {
   "cell_type": "code",
   "execution_count": 56,
   "metadata": {
    "collapsed": false
   },
   "outputs": [],
   "source": [
    "Vsolve = np.linalg.inv(I - P @ M @ S) @ P @ (M @ s)"
   ]
  },
  {
   "cell_type": "code",
   "execution_count": 57,
   "metadata": {
    "collapsed": false
   },
   "outputs": [
    {
     "data": {
      "text/plain": [
       "array([ 1.11737826,  1.15554869,  1.19713735,  1.24262497,  2.09856868])"
      ]
     },
     "execution_count": 57,
     "metadata": {},
     "output_type": "execute_result"
    }
   ],
   "source": [
    "Vsolve"
   ]
  },
  {
   "cell_type": "code",
   "execution_count": 58,
   "metadata": {
    "collapsed": false
   },
   "outputs": [
    {
     "data": {
      "text/plain": [
       "array([ 1.11737826,  1.15554868,  1.19713735,  1.24262496,  2.09856868])"
      ]
     },
     "execution_count": 58,
     "metadata": {},
     "output_type": "execute_result"
    }
   ],
   "source": [
    "v"
   ]
  },
  {
   "cell_type": "code",
   "execution_count": 59,
   "metadata": {
    "collapsed": false
   },
   "outputs": [
    {
     "data": {
      "text/plain": [
       "True"
      ]
     },
     "execution_count": 59,
     "metadata": {},
     "output_type": "execute_result"
    }
   ],
   "source": [
    "np.allclose(Vsolve, v)"
   ]
  },
  {
   "cell_type": "code",
   "execution_count": null,
   "metadata": {
    "collapsed": true
   },
   "outputs": [],
   "source": []
  },
  {
   "cell_type": "markdown",
   "metadata": {
    "collapsed": true
   },
   "source": [
    "**Confirmation of RHS == LHS**\n",
    "\n",
    "$$\n",
    "[I-PM\\Lambda]v = P M s\n",
    "$$"
   ]
  },
  {
   "cell_type": "code",
   "execution_count": 60,
   "metadata": {
    "collapsed": false
   },
   "outputs": [
    {
     "data": {
      "text/plain": [
       "array([ 0.50358185,  0.51384124,  0.5246136 ,  0.53593838,  0.75      ])"
      ]
     },
     "execution_count": 60,
     "metadata": {},
     "output_type": "execute_result"
    }
   ],
   "source": [
    "#-LHS-#\n",
    "(I - P @ M @ S ) @ v"
   ]
  },
  {
   "cell_type": "code",
   "execution_count": 61,
   "metadata": {
    "collapsed": false
   },
   "outputs": [
    {
     "data": {
      "text/plain": [
       "array([ 0.50358185,  0.51384124,  0.5246136 ,  0.53593839,  0.75      ])"
      ]
     },
     "execution_count": 61,
     "metadata": {},
     "output_type": "execute_result"
    }
   ],
   "source": [
    "#-RHS-#\n",
    "P @ M @ s"
   ]
  },
  {
   "cell_type": "code",
   "execution_count": null,
   "metadata": {
    "collapsed": true
   },
   "outputs": [],
   "source": []
  }
 ],
 "metadata": {
  "kernelspec": {
   "display_name": "Python 3",
   "language": "python",
   "name": "python3"
  },
  "language_info": {
   "codemirror_mode": {
    "name": "ipython",
    "version": 3
   },
   "file_extension": ".py",
   "mimetype": "text/x-python",
   "name": "python",
   "nbconvert_exporter": "python",
   "pygments_lexer": "ipython3",
   "version": "3.5.1"
  }
 },
 "nbformat": 4,
 "nbformat_minor": 0
}
